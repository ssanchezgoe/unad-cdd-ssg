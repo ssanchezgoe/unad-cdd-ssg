{
  "nbformat": 4,
  "nbformat_minor": 0,
  "metadata": {
    "colab": {
      "name": "jupyter_google_colab.ipynb",
      "provenance": [],
      "collapsed_sections": [],
      "authorship_tag": "ABX9TyMaGvshlm09f8VQLMknZvTo",
      "include_colab_link": true
    },
    "kernelspec": {
      "name": "python3",
      "display_name": "Python 3"
    }
  },
  "cells": [
    {
      "cell_type": "markdown",
      "metadata": {
        "id": "view-in-github",
        "colab_type": "text"
      },
      "source": [
        "<a href=\"https://colab.research.google.com/github/ssanchezgoe/unad-cdd-ssg/blob/master/jupyter_google_colab.ipynb\" target=\"_parent\"><img src=\"https://colab.research.google.com/assets/colab-badge.svg\" alt=\"Open In Colab\"/></a>"
      ]
    },
    {
      "cell_type": "markdown",
      "metadata": {
        "id": "5hNOTclLPHlZ",
        "colab_type": "text"
      },
      "source": [
        "# **Jupyter Notebook en la red con GoogleColab**"
      ]
    },
    {
      "cell_type": "markdown",
      "metadata": {
        "id": "LEe15vydPk8M",
        "colab_type": "text"
      },
      "source": [
        "# Preliminares:\n",
        "\n",
        "Atajos de teclado\n",
        "\n",
        "Atajo | significado \n",
        "--|--\n",
        "`Cmd/Ctrl + M A` | Insertar celda de código arriba\n",
        "`Cmd/Ctrl + M B` | Insertar celda de código abajo\n",
        "`Cmd/Ctrl + M D` | Eliminar celda seleccionada\n",
        "`Cmd/Ctrl + M I` | Interrumpir ejecución´\n",
        "`Cmd/Ctrl + M Y` | Convertir a celda de código\n",
        "`Cmd/Ctrl + M M` | Convertir a celda de texto\n",
        "`Ctrl/Cmd + M H` | Mostrar atajos de teclado\n",
        "`Cmd/Ctrl+Enter` | Correr celda actual de código\n",
        "`Cmd/Ctrl+M _` | Dividir celda a partir del cursor\n",
        "`Shift+Enter` | Correr celda actual y moverse a la siguiente\n",
        "`Alt+Enter` | Correr celda actual e insertar una celda de código abajo"
      ]
    },
    {
      "cell_type": "markdown",
      "metadata": {
        "id": "qaHIzUsKU_VK",
        "colab_type": "text"
      },
      "source": [
        "## Introducción a Google Colab:\n",
        "\n",
        "Google se ha convertido en una de las empresas que más apuesta en inteligencia artificial. A lo largo de muchos años, en Google se ha venido desarrollando una herramienta conocida como **TensorFlow**, junto a la herramienta que estamos usando actualmente, conocida como **Colaboratory**. Desde el 2017, TensorFlow se ha puesto al servicio de la comunidad como una herramienta de código abierto; el Colaboratory, por otra parte, corresponde a un entorno para ejecutar python (similar a Jupyter) de uso abierto. El Colaboratory se conoce simplemente como **Colab**.\n",
        "\n",
        "Dentro de las utilidades que ofrece Google a los desarrolladores es el uso gratuito de GPUs (Graphic Processing Units). La razón de lo anterior se debe al proposito que tiene Google de posicionar esta herramienta como un estándar para la enseñanza de Machine Learning, Deep Learning y Data Science. Por otra parte, Google apuesta a largo plazo por el uso de computo en la nube a través de **Google Cloud APIs**."
      ]
    },
    {
      "cell_type": "markdown",
      "metadata": {
        "id": "5NqXxtfWYOZt",
        "colab_type": "text"
      },
      "source": [
        "### **¿Qué es Google Colab?**\n",
        "\n",
        "Si ha usado antes los notebooks de **Jupyter**, la transición a **Colab** le resultará inmediato. Concretamente, el Colab es un notebook de Jupyter gratuito que corre por completo en la nube, por ende **DEBERÁ GUARDAR LOS ARCHIVOS EN LA NUBE O DE FORMA LOCAL**.  "
      ]
    },
    {
      "cell_type": "markdown",
      "metadata": {
        "id": "1JhpmywiZKNd",
        "colab_type": "text"
      },
      "source": [
        "### ¿Qué nos ofrece el Colab?\n",
        "\n",
        "Algunas de las funcionalidades ofrecidas por el Colab son:\n",
        "\n",
        "- Ejecutar y escribir código en `Python`(por defecto), o `R` a través de [este link](https://bit.ly/colabir) (aunque aun cuenta con pocas funcionalidades).\n",
        "- Documentación de su código, el cual soporta ecuaciones matemáticas en $\\LaTeX$.\n",
        "- Crear, subir y/o compartir notebooks.\n",
        "- Importar/Guardar notebooks desde/a Google Drive.\n",
        "- Importar/Publicar nootbooks a Github.\n"
      ]
    },
    {
      "cell_type": "code",
      "metadata": {
        "id": "u7Eblt9FTPSz",
        "colab_type": "code",
        "colab": {
          "base_uri": "https://localhost:8080/",
          "height": 187
        },
        "outputId": "f70d7c8e-5d77-400d-d56b-de60188a12f8"
      },
      "source": [
        "i = 10\n",
        "\n",
        "while i>=1:\n",
        "  print(\"Hola\")\n",
        "  i -= 1"
      ],
      "execution_count": 7,
      "outputs": [
        {
          "output_type": "stream",
          "text": [
            "Hola\n",
            "Hola\n",
            "Hola\n",
            "Hola\n",
            "Hola\n",
            "Hola\n",
            "Hola\n",
            "Hola\n",
            "Hola\n",
            "Hola\n"
          ],
          "name": "stdout"
        }
      ]
    },
    {
      "cell_type": "code",
      "metadata": {
        "id": "MxK_wAV5TYoO",
        "colab_type": "code",
        "colab": {}
      },
      "source": [
        ""
      ],
      "execution_count": null,
      "outputs": []
    }
  ]
}