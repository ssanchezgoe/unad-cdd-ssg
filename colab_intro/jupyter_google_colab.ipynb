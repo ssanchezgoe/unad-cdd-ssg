{
  "nbformat": 4,
  "nbformat_minor": 0,
  "metadata": {
    "colab": {
      "name": "jupyter_google_colab.ipynb",
      "provenance": [],
      "collapsed_sections": [],
      "mount_file_id": "1-w8Wca3MOnObtIQkoekDdwrt1DMn9m8V",
      "authorship_tag": "ABX9TyOnA5ckCRaqIQuUd5HrnZPy",
      "include_colab_link": true
    },
    "kernelspec": {
      "name": "python3",
      "display_name": "Python 3"
    }
  },
  "cells": [
    {
      "cell_type": "markdown",
      "metadata": {
        "id": "view-in-github",
        "colab_type": "text"
      },
      "source": [
        "<a href=\"https://colab.research.google.com/github/ssanchezgoe/unad-cdd-ssg/blob/master/jupyter_google_colab.ipynb\" target=\"_parent\"><img src=\"https://colab.research.google.com/assets/colab-badge.svg\" alt=\"Open In Colab\"/></a>"
      ]
    },
    {
      "cell_type": "markdown",
      "metadata": {
        "id": "5hNOTclLPHlZ",
        "colab_type": "text"
      },
      "source": [
        "# **Jupyter Notebook en la red con GoogleColab**"
      ]
    },
    {
      "cell_type": "markdown",
      "metadata": {
        "id": "LEe15vydPk8M",
        "colab_type": "text"
      },
      "source": [
        "## Preliminares:\n",
        "\n",
        "Atajos de teclado\n",
        "\n",
        "Atajo | significado \n",
        "--|--\n",
        "`Cmd/Ctrl + M A` | Insertar celda de código arriba\n",
        "`Cmd/Ctrl + M B` | Insertar celda de código abajo\n",
        "`Cmd/Ctrl + M D` | Eliminar celda seleccionada\n",
        "`Cmd/Ctrl + M I` | Interrumpir ejecución´\n",
        "`Cmd/Ctrl + M Y` | Convertir a celda de código\n",
        "`Cmd/Ctrl + M M` | Convertir a celda de texto\n",
        "`Ctrl/Cmd + M H` | Mostrar atajos de teclado\n",
        "`Cmd/Ctrl+Enter` | Correr celda actual de código\n",
        "`Cmd/Ctrl+M _` | Dividir celda a partir del cursor\n",
        "`Shift+Enter` | Correr celda actual y moverse a la siguiente\n",
        "`Alt+Enter` | Correr celda actual e insertar una celda de código abajo"
      ]
    },
    {
      "cell_type": "markdown",
      "metadata": {
        "id": "qaHIzUsKU_VK",
        "colab_type": "text"
      },
      "source": [
        "## Introducción a Google Colab:\n",
        "\n",
        "Google se ha convertido en una de las empresas que más apuesta en inteligencia artificial. A lo largo de muchos años, en Google se ha venido desarrollando una herramienta conocida como **TensorFlow**, junto a la herramienta que estamos usando actualmente, conocida como **Colaboratory**. Desde el 2017, TensorFlow se ha puesto al servicio de la comunidad como una herramienta de código abierto; el Colaboratory, por otra parte, corresponde a un entorno para ejecutar python (similar a Jupyter) de uso abierto. El Colaboratory se conoce simplemente como **Colab**.\n",
        "\n",
        "Dentro de las utilidades que ofrece Google a los desarrolladores es el uso gratuito de GPUs (Graphic Processing Units). La razón de lo anterior se debe al proposito que tiene Google de posicionar esta herramienta como un estándar para la enseñanza de Machine Learning, Deep Learning y Data Science. Por otra parte, Google apuesta a largo plazo por el uso de computo en la nube a través de **Google Cloud APIs**."
      ]
    },
    {
      "cell_type": "markdown",
      "metadata": {
        "id": "5NqXxtfWYOZt",
        "colab_type": "text"
      },
      "source": [
        "### **¿Qué es Google Colab?**\n",
        "\n",
        "Si ha usado antes los notebooks de **Jupyter**, la transición a **Colab** le resultará inmediato. Concretamente, el Colab es un notebook de Jupyter gratuito que corre por completo en la nube, por ende **DEBERÁ GUARDAR LOS ARCHIVOS EN LA NUBE O DE FORMA LOCAL**.  "
      ]
    },
    {
      "cell_type": "markdown",
      "metadata": {
        "id": "1JhpmywiZKNd",
        "colab_type": "text"
      },
      "source": [
        "### ¿Qué nos ofrece el Colab?\n",
        "\n",
        "Algunas de las funcionalidades ofrecidas por el Colab son:\n",
        "\n",
        "- Ejecutar y escribir código en `Python`(por defecto), o `R` a través de [este link](https://bit.ly/colabir) (aunque aun cuenta con pocas funcionalidades).\n",
        "- Documentación de su código, el cual soporta ecuaciones matemáticas en $\\LaTeX$.\n",
        "- Crear, subir y/o compartir notebooks.\n",
        "- Importar/Guardar notebooks desde/a Google Drive.\n",
        "- Importar/Publicar nootbooks a Github.\n",
        "- Importar datasets externos, por ejemplo de Kaggle.\n",
        "- Integrar PyTorch, TensorFlow, Keras, OpenCV.\n",
        "- Servicio gratuito con GPU.\n"
      ]
    },
    {
      "cell_type": "markdown",
      "metadata": {
        "id": "k-IgCiMkeMJV",
        "colab_type": "text"
      },
      "source": [
        "## **Google Colab - Primer Notebook**\n",
        "\n",
        "En esta sección se muestra el paso a paso de cómo crear un primer notebook básico. Para crear su primer notebook, siga los pasos enumerados a continuacion. \n",
        "\n",
        "**Nota:** Como el Colab usa implicitamente el Google Drive para almacenar los notebooks, asegúrece que usted esté logeado en Google Drive antes de proceder a realizar esta sección."
      ]
    },
    {
      "cell_type": "markdown",
      "metadata": {
        "id": "2kGabCKjfIbJ",
        "colab_type": "text"
      },
      "source": [
        "### **Paso 1: Apertura de Google Colab**\n",
        "\n",
        "Para abrir un notebook en google colab simplemente escriba Colab en la barra de búsqueda de Google\n",
        "\n",
        "<center><img src=\"https://github.com/ssanchezgoe/unad-cdd-ssg/blob/master/colab_intro/imagenes/busqueda_colab_google.png?raw=true\" alt=\"what image shows\" height=\"600\" width=\"800\"></center>"
      ]
    },
    {
      "cell_type": "markdown",
      "metadata": {
        "id": "KXiFk45nh10O",
        "colab_type": "text"
      },
      "source": [
        "###**Paso 2: Abrir nootebook nuevo**\n",
        "\n",
        "Al darle click en la entrada `Google Colab` del paso anterior, se abrirá un recuadro donde se debe dar click en **BLOC DE NOTAS NUEVO**, en la parte inferior del recuadro:\n",
        "\n",
        "\n",
        "<center><img src=\"https://github.com/ssanchezgoe/unad-cdd-ssg/blob/master/colab_intro/imagenes/bloc_nuevo_google_colab.png?raw=true\" alt=\"what image shows\" height=\"600\" width=\"800\"></center>"
      ]
    },
    {
      "cell_type": "markdown",
      "metadata": {
        "id": "zRoEvs0mi_hk",
        "colab_type": "text"
      },
      "source": [
        "### **Paso 3: Establecer el nombre del notebook:**\n",
        "\n",
        "Para establecer el nombre del notebook del Colab **ASEGÚRESE DE ESTAR LOGEADO EN GOOGLE DRIVE**, y modifique el nombre como se indica en el recuadro siguiente:\n",
        "\n",
        "<center><img src=\"https://github.com/ssanchezgoe/unad-cdd-ssg/blob/master/colab_intro/imagenes/cambiar_nombre_google_colab.png?raw=true\" alt=\"what image shows\" height=\"600\" width=\"800\"></center>"
      ]
    },
    {
      "cell_type": "markdown",
      "metadata": {
        "id": "DJMjxx3lj1is",
        "colab_type": "text"
      },
      "source": [
        "Finalmente, en la pestaña **Archivo**, podrá guardar una copia en **Google Drive**."
      ]
    },
    {
      "cell_type": "markdown",
      "metadata": {
        "id": "edytHVpPkQDM",
        "colab_type": "text"
      },
      "source": [
        "### **Texto y Código en mi primer notebook:**\n",
        "\n",
        "Al igual que se vió en los **notebooks de Jupyter**, en Colab existen dos tipos de celdas:\n",
        "\n",
        "- Celdas de texto, las cuales funcionan por medio de una sintaxis de `markdown`. Para una mayor claridad de los `markdown` vistite [este link](https://colab.research.google.com/notebooks/markdown_guide.ipynb#scrollTo=70pYkR9LiOV0).\n",
        "\n",
        "- Celdas de código, en donde se introduce las funciones, objetos, etc de lenguajes como `Python` y `R`."
      ]
    },
    {
      "cell_type": "markdown",
      "metadata": {
        "id": "IebdHijiu0q1",
        "colab_type": "text"
      },
      "source": [
        "###**Celdas de texto**"
      ]
    },
    {
      "cell_type": "markdown",
      "metadata": {
        "id": "wItUjkM9sim-",
        "colab_type": "text"
      },
      "source": [
        "####**Code blocks**\n",
        "\n",
        "Para ejemplificar una función o clase, podemos usar las comillas simples invertidas: `foo()` \n",
        "\n",
        "En el caso de bloques de código, usamos las comillas triples invertidas:\n",
        "\n",
        "```\n",
        "bar()\n",
        "```\n",
        "\n",
        "O cuatro espacios consecutivos\n",
        "\n",
        "    foo()"
      ]
    },
    {
      "cell_type": "markdown",
      "metadata": {
        "id": "nYgeef18tHjJ",
        "colab_type": "text"
      },
      "source": [
        "####**Código $\\LaTeX$**\n",
        "\n",
        ">$y=x^2$\n",
        "\n",
        ">$e^{i/pi} + 1 = 0$\n",
        "\n",
        ">$e^x=\\sum_{i=0}^\\infty \\frac{1}{i!}x^i$\n",
        "\n",
        ">$\\frac{n!}{k!(n-k)!} = {n \\choose k}$\n",
        "\n",
        ">$A_{m,n} =\n",
        " \\begin{pmatrix}\n",
        "  a_{1,1} & a_{1,2} & \\cdots & a_{1,n} \\\\\n",
        "  a_{2,1} & a_{2,2} & \\cdots & a_{2,n} \\\\\n",
        "  \\vdots  & \\vdots  & \\ddots & \\vdots  \\\\\n",
        "  a_{m,1} & a_{m,2} & \\cdots & a_{m,n}\n",
        " \\end{pmatrix}$"
      ]
    },
    {
      "cell_type": "markdown",
      "metadata": {
        "id": "7Cq94UuVtZwV",
        "colab_type": "text"
      },
      "source": [
        "####**Tablas**\n",
        "\n",
        ">```\n",
        "Nombre de la primera columna | Nombre de la segunda columna\n",
        "--- | ---\n",
        "Fila 1, Columna 1 | Fila 1, Columna 2\n",
        "Fila 2, Columna 1 | Fila 2, Columna 2\n",
        "```\n",
        "\n",
        "lo cual se convierte en:\n",
        "\n",
        ">Nombre de la primera columna | Nombre de la segunda columna\n",
        ">--- | ---\n",
        ">Fila 1, Columna 1 | Fila 1, Columna 2\n",
        ">Fila 2, Columna 1 | Fila 2, Columna 2"
      ]
    },
    {
      "cell_type": "markdown",
      "metadata": {
        "id": "EQ-C3luTsIfd",
        "colab_type": "text"
      },
      "source": [
        "###**Celdas de código:**\n",
        "\n",
        "En los siguientes ejemplos y ejecuciones, estaremos usando un kernel de python. Empecemos por consultar la versión de python que usaremos:"
      ]
    },
    {
      "cell_type": "code",
      "metadata": {
        "id": "Mfks6S2-wMgx",
        "colab_type": "code",
        "colab": {
          "base_uri": "https://localhost:8080/",
          "height": 34
        },
        "outputId": "0b4a2294-b0e6-4925-b1d9-7ab81ecfb062"
      },
      "source": [
        "!python --version"
      ],
      "execution_count": 45,
      "outputs": [
        {
          "output_type": "stream",
          "text": [
            "Python 3.6.9\n"
          ],
          "name": "stdout"
        }
      ]
    },
    {
      "cell_type": "markdown",
      "metadata": {
        "id": "ElCzyR80wXoV",
        "colab_type": "text"
      },
      "source": [
        "Puede cambiarse la versión de python a ejecutar, pero solo ejecutando Colab desde un entorno local. Para mayor información al respecto, consulte [este link](https://research.google.com/colaboratory/local-runtimes.html).\n",
        "\n",
        "Siendo rigurosos, la línea anterior no es una linea \"Python\", sino que corresponde a una ejecución de un entorno de las terminales UNIX, conocido como **bash**, y se especifica mediante el signo de admiración inicial:\n",
        "\n",
        "    !líneas de bash"
      ]
    },
    {
      "cell_type": "markdown",
      "metadata": {
        "id": "gb4s8_mNw1i4",
        "colab_type": "text"
      },
      "source": [
        "Vamos algunas celdas de ejecución de código en `Python`:"
      ]
    },
    {
      "cell_type": "code",
      "metadata": {
        "id": "yeMZFYsQnesZ",
        "colab_type": "code",
        "colab": {
          "base_uri": "https://localhost:8080/",
          "height": 34
        },
        "outputId": "b1fd4277-d350-4242-c28d-ac1e71aa91c9"
      },
      "source": [
        "import time # Módulo para funciones de tiempo\n",
        "\n",
        "print(time.ctime())"
      ],
      "execution_count": 46,
      "outputs": [
        {
          "output_type": "stream",
          "text": [
            "Tue Aug  4 15:35:32 2020\n"
          ],
          "name": "stdout"
        }
      ]
    },
    {
      "cell_type": "markdown",
      "metadata": {
        "id": "nYIm5FyBoNE4",
        "colab_type": "text"
      },
      "source": [
        "Como podemos ver, en el momento de ejecutar la celda (mediante alguno de los atajos de teclado enseñados, o mediante el botón de play) se desplegará el resultado de la ejecución de la celda justo debajo del código.\n",
        "\n",
        "Agreguemos una línea de código nueva en donde introduciremos un retraso de 5 segundos en la impresión de la hora actual:"
      ]
    },
    {
      "cell_type": "code",
      "metadata": {
        "id": "mvq2mW4Hp7bY",
        "colab_type": "code",
        "colab": {
          "base_uri": "https://localhost:8080/",
          "height": 34
        },
        "outputId": "8f1c59ab-8a43-480d-e57d-9a05c1840562"
      },
      "source": [
        "time.sleep(5)\n",
        "print(time.ctime())"
      ],
      "execution_count": 47,
      "outputs": [
        {
          "output_type": "stream",
          "text": [
            "Tue Aug  4 15:35:37 2020\n"
          ],
          "name": "stdout"
        }
      ]
    },
    {
      "cell_type": "markdown",
      "metadata": {
        "id": "4etlBc_JqL26",
        "colab_type": "text"
      },
      "source": [
        "Evidentemente, la diferencia entre los tiempos impresos en las dos celdas inmediatamente anterior no será de 5 segundos, ya que habrá transcurrido un tiempo mayor a 5 segundos al ejecutar la última celda de tiempo."
      ]
    },
    {
      "cell_type": "markdown",
      "metadata": {
        "id": "p25dVtIxpQoR",
        "colab_type": "text"
      },
      "source": [
        "### **Ejecución de todo el notebook**\n",
        "\n",
        "Para ejecutar todo el notebook, nos vamos a la pestaña de `Entorno de ejecución` y dentro de ella encontraremos la opción de `Ejecutar todo` (`Cmd/Ctrl+F9`).\n",
        "\n",
        "\n",
        "Al ejecutar todas las celdas, notaremos que las diferencias temporalres entre las celdas para imprimir la hora actual será cerca a 5 segundos."
      ]
    },
    {
      "cell_type": "code",
      "metadata": {
        "id": "u7Eblt9FTPSz",
        "colab_type": "code",
        "colab": {
          "base_uri": "https://localhost:8080/",
          "height": 187
        },
        "outputId": "4f1542ab-14fb-46b7-f5f4-1fd47f7cf5b8"
      },
      "source": [
        "i = 10\n",
        "\n",
        "while i>=1:\n",
        "  print(\"Hola\")\n",
        "  i -= 1"
      ],
      "execution_count": 48,
      "outputs": [
        {
          "output_type": "stream",
          "text": [
            "Hola\n",
            "Hola\n",
            "Hola\n",
            "Hola\n",
            "Hola\n",
            "Hola\n",
            "Hola\n",
            "Hola\n",
            "Hola\n",
            "Hola\n"
          ],
          "name": "stdout"
        }
      ]
    },
    {
      "cell_type": "markdown",
      "metadata": {
        "id": "syLFQ6-H9eQQ",
        "colab_type": "text"
      },
      "source": [
        "###**Google Colab - Comandos del sistema**\n",
        "\n",
        "Dentro de Jupyter se incluyen varias operaciones del sistema (o terminal). Las celdas de Colab permiten este tipo de operaciones, veamos algunas."
      ]
    },
    {
      "cell_type": "markdown",
      "metadata": {
        "id": "3mqLAh_dudwp",
        "colab_type": "text"
      },
      "source": [
        "####**Comandos simples:**\n",
        "\n",
        "Por ejemplo, ejecutemos la siguiente línea de código, llamando la función `echo` del sistema."
      ]
    },
    {
      "cell_type": "code",
      "metadata": {
        "id": "pS4gnOfG97UR",
        "colab_type": "code",
        "colab": {
          "base_uri": "https://localhost:8080/",
          "height": 34
        },
        "outputId": "c06c235e-8ea9-4847-e01b-6210054ad8f0"
      },
      "source": [
        "mensaje = 'Excelente tutorial de Google Colab!'\n",
        "saludo = !echo -e '$mensaje\\n$mensaje'\n",
        "saludo"
      ],
      "execution_count": 49,
      "outputs": [
        {
          "output_type": "execute_result",
          "data": {
            "text/plain": [
              "['Excelente tutorial de Google Colab!', 'Excelente tutorial de Google Colab!']"
            ]
          },
          "metadata": {
            "tags": []
          },
          "execution_count": 49
        }
      ]
    },
    {
      "cell_type": "markdown",
      "metadata": {
        "id": "lB6P08yn-kJu",
        "colab_type": "text"
      },
      "source": [
        "####**Obtención de datos remotos**\n",
        "\n",
        "Veamos un ejemplo ejemplo en el cual podemos obtener un dataset desde una servidor remoto. Para ello, ejecutamos el comando del sistema `wget`:"
      ]
    },
    {
      "cell_type": "code",
      "metadata": {
        "id": "JaEDp7ft_IuR",
        "colab_type": "code",
        "colab": {
          "base_uri": "https://localhost:8080/",
          "height": 204
        },
        "outputId": "a247b026-a8b8-432f-a0e5-7f3db0f79687"
      },
      "source": [
        "!wget https://archive.ics.uci.edu/ml/machine-learning-databases/adult/adult.data"
      ],
      "execution_count": 50,
      "outputs": [
        {
          "output_type": "stream",
          "text": [
            "--2020-08-04 15:35:39--  https://archive.ics.uci.edu/ml/machine-learning-databases/adult/adult.data\n",
            "Resolving archive.ics.uci.edu (archive.ics.uci.edu)... 128.195.10.252\n",
            "Connecting to archive.ics.uci.edu (archive.ics.uci.edu)|128.195.10.252|:443... connected.\n",
            "HTTP request sent, awaiting response... 200 OK\n",
            "Length: 3974305 (3.8M) [application/x-httpd-php]\n",
            "Saving to: ‘adult.data.1’\n",
            "\n",
            "\radult.data.1          0%[                    ]       0  --.-KB/s               \radult.data.1         47%[========>           ]   1.79M  8.97MB/s               \radult.data.1        100%[===================>]   3.79M  16.2MB/s    in 0.2s    \n",
            "\n",
            "2020-08-04 15:35:40 (16.2 MB/s) - ‘adult.data.1’ saved [3974305/3974305]\n",
            "\n"
          ],
          "name": "stdout"
        }
      ]
    },
    {
      "cell_type": "markdown",
      "metadata": {
        "id": "sAcSoYWuA0xY",
        "colab_type": "text"
      },
      "source": [
        "Veamos que, efectivamente, hemos descargado el dataset:"
      ]
    },
    {
      "cell_type": "code",
      "metadata": {
        "id": "qLYtQNRK_3lV",
        "colab_type": "code",
        "colab": {
          "base_uri": "https://localhost:8080/",
          "height": 34
        },
        "outputId": "4d622899-dfb6-48f3-d48d-fd89ab3986ee"
      },
      "source": [
        "ls"
      ],
      "execution_count": 51,
      "outputs": [
        {
          "output_type": "stream",
          "text": [
            "adult.data  adult.data.1  \u001b[0m\u001b[01;34mdrive\u001b[0m/  \u001b[01;34mkeras-mnist-tutorial\u001b[0m/  \u001b[01;34msample_data\u001b[0m/\n"
          ],
          "name": "stdout"
        }
      ]
    },
    {
      "cell_type": "markdown",
      "metadata": {
        "id": "wBxOrqzGCZfZ",
        "colab_type": "text"
      },
      "source": [
        "Visualicemos el archivo mediante comandos del sistema:"
      ]
    },
    {
      "cell_type": "code",
      "metadata": {
        "id": "-_TVPdznCOVr",
        "colab_type": "code",
        "colab": {
          "base_uri": "https://localhost:8080/",
          "height": 187
        },
        "outputId": "b14c1f3e-6baf-46f5-fe7d-3af4023f6578"
      },
      "source": [
        "!cat adult.data | head"
      ],
      "execution_count": 52,
      "outputs": [
        {
          "output_type": "stream",
          "text": [
            "39, State-gov, 77516, Bachelors, 13, Never-married, Adm-clerical, Not-in-family, White, Male, 2174, 0, 40, United-States, <=50K\n",
            "50, Self-emp-not-inc, 83311, Bachelors, 13, Married-civ-spouse, Exec-managerial, Husband, White, Male, 0, 0, 13, United-States, <=50K\n",
            "38, Private, 215646, HS-grad, 9, Divorced, Handlers-cleaners, Not-in-family, White, Male, 0, 0, 40, United-States, <=50K\n",
            "53, Private, 234721, 11th, 7, Married-civ-spouse, Handlers-cleaners, Husband, Black, Male, 0, 0, 40, United-States, <=50K\n",
            "28, Private, 338409, Bachelors, 13, Married-civ-spouse, Prof-specialty, Wife, Black, Female, 0, 0, 40, Cuba, <=50K\n",
            "37, Private, 284582, Masters, 14, Married-civ-spouse, Exec-managerial, Wife, White, Female, 0, 0, 40, United-States, <=50K\n",
            "49, Private, 160187, 9th, 5, Married-spouse-absent, Other-service, Not-in-family, Black, Female, 0, 0, 16, Jamaica, <=50K\n",
            "52, Self-emp-not-inc, 209642, HS-grad, 9, Married-civ-spouse, Exec-managerial, Husband, White, Male, 0, 0, 45, United-States, >50K\n",
            "31, Private, 45781, Masters, 14, Never-married, Prof-specialty, Not-in-family, White, Female, 14084, 0, 50, United-States, >50K\n",
            "42, Private, 159449, Bachelors, 13, Married-civ-spouse, Exec-managerial, Husband, White, Male, 5178, 0, 40, United-States, >50K\n"
          ],
          "name": "stdout"
        }
      ]
    },
    {
      "cell_type": "markdown",
      "metadata": {
        "id": "BlDLssvyA8GP",
        "colab_type": "text"
      },
      "source": [
        "Visualicemos dicho dataset mediante la librería `Pandas` de Python:"
      ]
    },
    {
      "cell_type": "code",
      "metadata": {
        "id": "lz8mBAzp_5kq",
        "colab_type": "code",
        "colab": {
          "base_uri": "https://localhost:8080/",
          "height": 419
        },
        "outputId": "8b867030-769b-4cb7-b210-ed70759e6c05"
      },
      "source": [
        "import pandas as pd\n",
        "\n",
        "pd.read_csv(\"adult.data\", header=None)"
      ],
      "execution_count": 53,
      "outputs": [
        {
          "output_type": "execute_result",
          "data": {
            "text/html": [
              "<div>\n",
              "<style scoped>\n",
              "    .dataframe tbody tr th:only-of-type {\n",
              "        vertical-align: middle;\n",
              "    }\n",
              "\n",
              "    .dataframe tbody tr th {\n",
              "        vertical-align: top;\n",
              "    }\n",
              "\n",
              "    .dataframe thead th {\n",
              "        text-align: right;\n",
              "    }\n",
              "</style>\n",
              "<table border=\"1\" class=\"dataframe\">\n",
              "  <thead>\n",
              "    <tr style=\"text-align: right;\">\n",
              "      <th></th>\n",
              "      <th>0</th>\n",
              "      <th>1</th>\n",
              "      <th>2</th>\n",
              "      <th>3</th>\n",
              "      <th>4</th>\n",
              "      <th>5</th>\n",
              "      <th>6</th>\n",
              "      <th>7</th>\n",
              "      <th>8</th>\n",
              "      <th>9</th>\n",
              "      <th>10</th>\n",
              "      <th>11</th>\n",
              "      <th>12</th>\n",
              "      <th>13</th>\n",
              "      <th>14</th>\n",
              "    </tr>\n",
              "  </thead>\n",
              "  <tbody>\n",
              "    <tr>\n",
              "      <th>0</th>\n",
              "      <td>39</td>\n",
              "      <td>State-gov</td>\n",
              "      <td>77516</td>\n",
              "      <td>Bachelors</td>\n",
              "      <td>13</td>\n",
              "      <td>Never-married</td>\n",
              "      <td>Adm-clerical</td>\n",
              "      <td>Not-in-family</td>\n",
              "      <td>White</td>\n",
              "      <td>Male</td>\n",
              "      <td>2174</td>\n",
              "      <td>0</td>\n",
              "      <td>40</td>\n",
              "      <td>United-States</td>\n",
              "      <td>&lt;=50K</td>\n",
              "    </tr>\n",
              "    <tr>\n",
              "      <th>1</th>\n",
              "      <td>50</td>\n",
              "      <td>Self-emp-not-inc</td>\n",
              "      <td>83311</td>\n",
              "      <td>Bachelors</td>\n",
              "      <td>13</td>\n",
              "      <td>Married-civ-spouse</td>\n",
              "      <td>Exec-managerial</td>\n",
              "      <td>Husband</td>\n",
              "      <td>White</td>\n",
              "      <td>Male</td>\n",
              "      <td>0</td>\n",
              "      <td>0</td>\n",
              "      <td>13</td>\n",
              "      <td>United-States</td>\n",
              "      <td>&lt;=50K</td>\n",
              "    </tr>\n",
              "    <tr>\n",
              "      <th>2</th>\n",
              "      <td>38</td>\n",
              "      <td>Private</td>\n",
              "      <td>215646</td>\n",
              "      <td>HS-grad</td>\n",
              "      <td>9</td>\n",
              "      <td>Divorced</td>\n",
              "      <td>Handlers-cleaners</td>\n",
              "      <td>Not-in-family</td>\n",
              "      <td>White</td>\n",
              "      <td>Male</td>\n",
              "      <td>0</td>\n",
              "      <td>0</td>\n",
              "      <td>40</td>\n",
              "      <td>United-States</td>\n",
              "      <td>&lt;=50K</td>\n",
              "    </tr>\n",
              "    <tr>\n",
              "      <th>3</th>\n",
              "      <td>53</td>\n",
              "      <td>Private</td>\n",
              "      <td>234721</td>\n",
              "      <td>11th</td>\n",
              "      <td>7</td>\n",
              "      <td>Married-civ-spouse</td>\n",
              "      <td>Handlers-cleaners</td>\n",
              "      <td>Husband</td>\n",
              "      <td>Black</td>\n",
              "      <td>Male</td>\n",
              "      <td>0</td>\n",
              "      <td>0</td>\n",
              "      <td>40</td>\n",
              "      <td>United-States</td>\n",
              "      <td>&lt;=50K</td>\n",
              "    </tr>\n",
              "    <tr>\n",
              "      <th>4</th>\n",
              "      <td>28</td>\n",
              "      <td>Private</td>\n",
              "      <td>338409</td>\n",
              "      <td>Bachelors</td>\n",
              "      <td>13</td>\n",
              "      <td>Married-civ-spouse</td>\n",
              "      <td>Prof-specialty</td>\n",
              "      <td>Wife</td>\n",
              "      <td>Black</td>\n",
              "      <td>Female</td>\n",
              "      <td>0</td>\n",
              "      <td>0</td>\n",
              "      <td>40</td>\n",
              "      <td>Cuba</td>\n",
              "      <td>&lt;=50K</td>\n",
              "    </tr>\n",
              "    <tr>\n",
              "      <th>...</th>\n",
              "      <td>...</td>\n",
              "      <td>...</td>\n",
              "      <td>...</td>\n",
              "      <td>...</td>\n",
              "      <td>...</td>\n",
              "      <td>...</td>\n",
              "      <td>...</td>\n",
              "      <td>...</td>\n",
              "      <td>...</td>\n",
              "      <td>...</td>\n",
              "      <td>...</td>\n",
              "      <td>...</td>\n",
              "      <td>...</td>\n",
              "      <td>...</td>\n",
              "      <td>...</td>\n",
              "    </tr>\n",
              "    <tr>\n",
              "      <th>32556</th>\n",
              "      <td>27</td>\n",
              "      <td>Private</td>\n",
              "      <td>257302</td>\n",
              "      <td>Assoc-acdm</td>\n",
              "      <td>12</td>\n",
              "      <td>Married-civ-spouse</td>\n",
              "      <td>Tech-support</td>\n",
              "      <td>Wife</td>\n",
              "      <td>White</td>\n",
              "      <td>Female</td>\n",
              "      <td>0</td>\n",
              "      <td>0</td>\n",
              "      <td>38</td>\n",
              "      <td>United-States</td>\n",
              "      <td>&lt;=50K</td>\n",
              "    </tr>\n",
              "    <tr>\n",
              "      <th>32557</th>\n",
              "      <td>40</td>\n",
              "      <td>Private</td>\n",
              "      <td>154374</td>\n",
              "      <td>HS-grad</td>\n",
              "      <td>9</td>\n",
              "      <td>Married-civ-spouse</td>\n",
              "      <td>Machine-op-inspct</td>\n",
              "      <td>Husband</td>\n",
              "      <td>White</td>\n",
              "      <td>Male</td>\n",
              "      <td>0</td>\n",
              "      <td>0</td>\n",
              "      <td>40</td>\n",
              "      <td>United-States</td>\n",
              "      <td>&gt;50K</td>\n",
              "    </tr>\n",
              "    <tr>\n",
              "      <th>32558</th>\n",
              "      <td>58</td>\n",
              "      <td>Private</td>\n",
              "      <td>151910</td>\n",
              "      <td>HS-grad</td>\n",
              "      <td>9</td>\n",
              "      <td>Widowed</td>\n",
              "      <td>Adm-clerical</td>\n",
              "      <td>Unmarried</td>\n",
              "      <td>White</td>\n",
              "      <td>Female</td>\n",
              "      <td>0</td>\n",
              "      <td>0</td>\n",
              "      <td>40</td>\n",
              "      <td>United-States</td>\n",
              "      <td>&lt;=50K</td>\n",
              "    </tr>\n",
              "    <tr>\n",
              "      <th>32559</th>\n",
              "      <td>22</td>\n",
              "      <td>Private</td>\n",
              "      <td>201490</td>\n",
              "      <td>HS-grad</td>\n",
              "      <td>9</td>\n",
              "      <td>Never-married</td>\n",
              "      <td>Adm-clerical</td>\n",
              "      <td>Own-child</td>\n",
              "      <td>White</td>\n",
              "      <td>Male</td>\n",
              "      <td>0</td>\n",
              "      <td>0</td>\n",
              "      <td>20</td>\n",
              "      <td>United-States</td>\n",
              "      <td>&lt;=50K</td>\n",
              "    </tr>\n",
              "    <tr>\n",
              "      <th>32560</th>\n",
              "      <td>52</td>\n",
              "      <td>Self-emp-inc</td>\n",
              "      <td>287927</td>\n",
              "      <td>HS-grad</td>\n",
              "      <td>9</td>\n",
              "      <td>Married-civ-spouse</td>\n",
              "      <td>Exec-managerial</td>\n",
              "      <td>Wife</td>\n",
              "      <td>White</td>\n",
              "      <td>Female</td>\n",
              "      <td>15024</td>\n",
              "      <td>0</td>\n",
              "      <td>40</td>\n",
              "      <td>United-States</td>\n",
              "      <td>&gt;50K</td>\n",
              "    </tr>\n",
              "  </tbody>\n",
              "</table>\n",
              "<p>32561 rows × 15 columns</p>\n",
              "</div>"
            ],
            "text/plain": [
              "       0                  1       2   ...  12              13      14\n",
              "0      39          State-gov   77516  ...  40   United-States   <=50K\n",
              "1      50   Self-emp-not-inc   83311  ...  13   United-States   <=50K\n",
              "2      38            Private  215646  ...  40   United-States   <=50K\n",
              "3      53            Private  234721  ...  40   United-States   <=50K\n",
              "4      28            Private  338409  ...  40            Cuba   <=50K\n",
              "...    ..                ...     ...  ...  ..             ...     ...\n",
              "32556  27            Private  257302  ...  38   United-States   <=50K\n",
              "32557  40            Private  154374  ...  40   United-States    >50K\n",
              "32558  58            Private  151910  ...  40   United-States   <=50K\n",
              "32559  22            Private  201490  ...  20   United-States   <=50K\n",
              "32560  52       Self-emp-inc  287927  ...  40   United-States    >50K\n",
              "\n",
              "[32561 rows x 15 columns]"
            ]
          },
          "metadata": {
            "tags": []
          },
          "execution_count": 53
        }
      ]
    },
    {
      "cell_type": "markdown",
      "metadata": {
        "id": "7cRvsI0hBA6u",
        "colab_type": "text"
      },
      "source": [
        "Cabe resaltar que el dataset ha sido almacenado en un \"computador\" en la nube de google. Dicho computador no guarda los archivos que usted se descarga. Una vez cierra la sesión y la vuelve a abrir, todos los archivos descargados habrán desaparecido. Para evitar lo anterior, veremos más adelante como \"montar\" Google Drive en este entorno de ejecución."
      ]
    },
    {
      "cell_type": "markdown",
      "metadata": {
        "id": "YtajKakBDqEK",
        "colab_type": "text"
      },
      "source": [
        "####**Clonación de un repositorio de Git**"
      ]
    },
    {
      "cell_type": "code",
      "metadata": {
        "id": "Km1FkktcABJW",
        "colab_type": "code",
        "colab": {
          "base_uri": "https://localhost:8080/",
          "height": 34
        },
        "outputId": "02aa8463-3560-4c7f-bfdb-4660a11e9d33"
      },
      "source": [
        "!git clone https://github.com/wxs/keras-mnist-tutorial.git"
      ],
      "execution_count": 54,
      "outputs": [
        {
          "output_type": "stream",
          "text": [
            "fatal: destination path 'keras-mnist-tutorial' already exists and is not an empty directory.\n"
          ],
          "name": "stdout"
        }
      ]
    },
    {
      "cell_type": "code",
      "metadata": {
        "id": "jF9tgqf-D0G1",
        "colab_type": "code",
        "colab": {
          "base_uri": "https://localhost:8080/",
          "height": 34
        },
        "outputId": "4bd459d8-eb4e-4b96-c370-752d6d5b7ba3"
      },
      "source": [
        "ls"
      ],
      "execution_count": 55,
      "outputs": [
        {
          "output_type": "stream",
          "text": [
            "adult.data  adult.data.1  \u001b[0m\u001b[01;34mdrive\u001b[0m/  \u001b[01;34mkeras-mnist-tutorial\u001b[0m/  \u001b[01;34msample_data\u001b[0m/\n"
          ],
          "name": "stdout"
        }
      ]
    },
    {
      "cell_type": "markdown",
      "metadata": {
        "id": "cUkT9sVjD21y",
        "colab_type": "text"
      },
      "source": [
        "Vemos entonces que hemos descargado el repositorio completo que se encuentra en la carpeta `keras-mnist-tutorial`"
      ]
    },
    {
      "cell_type": "markdown",
      "metadata": {
        "id": "UeTcPEXpF3S7",
        "colab_type": "text"
      },
      "source": [
        "####**Aliases del Sistema**\n",
        "\n",
        "Para obtener una lista de los comandos del sistema disponible, ejecutamos la siguiente línea de código"
      ]
    },
    {
      "cell_type": "code",
      "metadata": {
        "id": "McSKQzH9GCeB",
        "colab_type": "code",
        "colab": {
          "base_uri": "https://localhost:8080/",
          "height": 646
        },
        "outputId": "6add2636-dbed-4fdf-f8cb-6a8fe8f023a7"
      },
      "source": [
        "!ls /bin"
      ],
      "execution_count": 56,
      "outputs": [
        {
          "output_type": "stream",
          "text": [
            "bash\t       journalctl     sync\n",
            "bunzip2        kill\t      systemctl\n",
            "bzcat\t       kmod\t      systemd\n",
            "bzcmp\t       less\t      systemd-ask-password\n",
            "bzdiff\t       lessecho       systemd-escape\n",
            "bzegrep        lessfile       systemd-hwdb\n",
            "bzexe\t       lesskey\t      systemd-inhibit\n",
            "bzfgrep        lesspipe       systemd-machine-id-setup\n",
            "bzgrep\t       ln\t      systemd-notify\n",
            "bzip2\t       login\t      systemd-sysusers\n",
            "bzip2recover   loginctl       systemd-tmpfiles\n",
            "bzless\t       ls\t      systemd-tty-ask-password-agent\n",
            "bzmore\t       lsblk\t      tar\n",
            "cat\t       lsmod\t      tempfile\n",
            "chgrp\t       mkdir\t      touch\n",
            "chmod\t       mknod\t      true\n",
            "chown\t       mktemp\t      udevadm\n",
            "cp\t       more\t      ulockmgr_server\n",
            "dash\t       mount\t      umount\n",
            "date\t       mountpoint     uname\n",
            "dd\t       mv\t      uncompress\n",
            "df\t       networkctl     vdir\n",
            "dir\t       nisdomainname  wdctl\n",
            "dmesg\t       pidof\t      which\n",
            "dnsdomainname  ps\t      ypdomainname\n",
            "domainname     pwd\t      zcat\n",
            "echo\t       rbash\t      zcmp\n",
            "egrep\t       readlink       zdiff\n",
            "false\t       rm\t      zegrep\n",
            "fgrep\t       rmdir\t      zfgrep\n",
            "findmnt        run-parts      zforce\n",
            "fusermount     sed\t      zgrep\n",
            "grep\t       sh\t      zless\n",
            "gunzip\t       sh.distrib     zmore\n",
            "gzexe\t       sleep\t      znew\n",
            "gzip\t       stty\n",
            "hostname       su\n"
          ],
          "name": "stdout"
        }
      ]
    },
    {
      "cell_type": "markdown",
      "metadata": {
        "id": "CpnNy25UEEWX",
        "colab_type": "text"
      },
      "source": [
        "Cualquiera de estos comandos pueden ser usados de forma similar a como hicimos con `echo` y `wget`."
      ]
    },
    {
      "cell_type": "markdown",
      "metadata": {
        "id": "vdrBBZkSGThk",
        "colab_type": "text"
      },
      "source": [
        "### **Google Colab - Ejecución de archivos externos:**\n",
        "\n",
        "Desde la pestaña de Herramientas, en Paleta de comandos, se puede Activar unidades como la de Google Drive. \n",
        "\n",
        "El siguiente código, nos permite montar dicha unidad en el entorno del colab:"
      ]
    },
    {
      "cell_type": "code",
      "metadata": {
        "id": "uRp5ayltHuWQ",
        "colab_type": "code",
        "colab": {
          "base_uri": "https://localhost:8080/",
          "height": 34
        },
        "outputId": "ebd2677e-63c3-4c38-ff41-5d3c1d223496"
      },
      "source": [
        "from google.colab import drive\n",
        "drive.mount('/content/drive', force_remount=True)"
      ],
      "execution_count": 57,
      "outputs": [
        {
          "output_type": "stream",
          "text": [
            "Mounted at /content/drive\n"
          ],
          "name": "stdout"
        }
      ]
    },
    {
      "cell_type": "code",
      "metadata": {
        "id": "U2xu0RSvItAy",
        "colab_type": "code",
        "colab": {
          "base_uri": "https://localhost:8080/",
          "height": 34
        },
        "outputId": "673c79d6-144d-4e22-d123-4ee45a2b01ee"
      },
      "source": [
        "ls"
      ],
      "execution_count": 58,
      "outputs": [
        {
          "output_type": "stream",
          "text": [
            "adult.data  adult.data.1  \u001b[0m\u001b[01;34mdrive\u001b[0m/  \u001b[01;34mkeras-mnist-tutorial\u001b[0m/  \u001b[01;34msample_data\u001b[0m/\n"
          ],
          "name": "stdout"
        }
      ]
    },
    {
      "cell_type": "markdown",
      "metadata": {
        "id": "nC2LeZsyInrz",
        "colab_type": "text"
      },
      "source": [
        "Nótese que, ahora, en la capeta drive se encuentra nuestro Drive de Google.\n",
        "\n",
        "Ejecutemos un script de python llamado hola_mundo.py, almacenado en la ruta content/drive/ My Drive/np_python_tutorial."
      ]
    },
    {
      "cell_type": "code",
      "metadata": {
        "id": "RpGQr7mfKl9e",
        "colab_type": "code",
        "colab": {
          "base_uri": "https://localhost:8080/",
          "height": 34
        },
        "outputId": "fedcf72c-072c-4781-9bb6-0c3643e0b3bd"
      },
      "source": [
        "!python3 \"/content/drive/My Drive/nb_python_tutorial/hola_mundo.py\""
      ],
      "execution_count": 59,
      "outputs": [
        {
          "output_type": "stream",
          "text": [
            "Hola! Bienvenidos a este tutorial del Colab!\n"
          ],
          "name": "stdout"
        }
      ]
    },
    {
      "cell_type": "markdown",
      "metadata": {
        "id": "C5-jnRbQPC_u",
        "colab_type": "text"
      },
      "source": [
        "###**Gráficas en Google Colab**\n",
        "\n",
        "Google Colab soporta varios tipos de graficos, en esencia, todas aquellas posibles de librerías como `matplotlib`, `seaborn`, etc."
      ]
    },
    {
      "cell_type": "code",
      "metadata": {
        "id": "2vJ65d_ePfkc",
        "colab_type": "code",
        "colab": {
          "base_uri": "https://localhost:8080/",
          "height": 281
        },
        "outputId": "7b89954b-f42e-443f-fb18-8766bc408966"
      },
      "source": [
        "import numpy as np\n",
        "from matplotlib import pyplot as plt\n",
        "\n",
        "y = np.random.randn(100)\n",
        "x = [x for x in range(len(y))]\n",
        "\n",
        "plt.plot(x, y, '-')\n",
        "plt.fill_between(x, y, 200, where = (y > 195), facecolor='g', alpha=0.6)\n",
        "\n",
        "plt.title(\"Sample Plot\")\n",
        "plt.show()"
      ],
      "execution_count": 60,
      "outputs": [
        {
          "output_type": "display_data",
          "data": {
            "image/png": "[encoded data removed]",
            "text/plain": [
              "<Figure size 432x288 with 1 Axes>"
            ]
          },
          "metadata": {
            "tags": [],
            "needs_background": "light"
          }
        }
      ]
    },
    {
      "cell_type": "markdown",
      "metadata": {
        "id": "kXhZ5ORr0nbX",
        "colab_type": "text"
      },
      "source": [
        "###**Google Colab - Ayudas en python**\n",
        "\n",
        "La presente sección tiene como propósito exponer el acceso a las ayudas y descripciones que se ofrecen en las librerías en `Python`, lo cual resulta de suma utilidad a la hora de programay un código coherente, cuya finalidad sea clara. \n",
        "\n",
        "Veamos entonces, como realizar consultas relacionadas con el contexto de programación para realizar una tarea específica. \n",
        "\n"
      ]
    },
    {
      "cell_type": "markdown",
      "metadata": {
        "id": "4rwsBHGM9suA",
        "colab_type": "text"
      },
      "source": [
        "####**Consulta de ayudas de funciones**\n",
        "\n",
        "Empecemos por plantearnos una tarea sencilla:\n",
        "\n",
        "---\n",
        "**Problema:** Crear un código en el cual se despliegue un número entre 1 y 10 e indicar si es par o impar.\n",
        "\n",
        "---"
      ]
    },
    {
      "cell_type": "code",
      "metadata": {
        "id": "Ckd5yaOKPj3p",
        "colab_type": "code",
        "colab": {}
      },
      "source": [
        "import numpy as np # importar librería numérica de python  "
      ],
      "execution_count": 61,
      "outputs": []
    },
    {
      "cell_type": "markdown",
      "metadata": {
        "id": "EH2D8tDM7FzP",
        "colab_type": "text"
      },
      "source": [
        "Para crear un número aleatorio entero podemos usar la función de `numpy` `np.random.randint()`. Supondamos, además, que hemos olvidado como usar dicha función; existen varias formas de acceder a la ayuda suministrada para esta función:"
      ]
    },
    {
      "cell_type": "code",
      "metadata": {
        "id": "RmcVH2hb7j2l",
        "colab_type": "code",
        "colab": {
          "base_uri": "https://localhost:8080/",
          "height": 1000
        },
        "outputId": "4621e673-46ce-4e0e-a6bb-971eb709d275"
      },
      "source": [
        "# Mediante del uso de la función help\n",
        "help(np.random.randint)"
      ],
      "execution_count": 62,
      "outputs": [
        {
          "output_type": "stream",
          "text": [
            "Help on built-in function randint:\n",
            "\n",
            "randint(...) method of numpy.random.mtrand.RandomState instance\n",
            "    randint(low, high=None, size=None, dtype=int)\n",
            "    \n",
            "    Return random integers from `low` (inclusive) to `high` (exclusive).\n",
            "    \n",
            "    Return random integers from the \"discrete uniform\" distribution of\n",
            "    the specified dtype in the \"half-open\" interval [`low`, `high`). If\n",
            "    `high` is None (the default), then results are from [0, `low`).\n",
            "    \n",
            "    .. note::\n",
            "        New code should use the ``integers`` method of a ``default_rng()``\n",
            "        instance instead; see `random-quick-start`.\n",
            "    \n",
            "    Parameters\n",
            "    ----------\n",
            "    low : int or array-like of ints\n",
            "        Lowest (signed) integers to be drawn from the distribution (unless\n",
            "        ``high=None``, in which case this parameter is one above the\n",
            "        *highest* such integer).\n",
            "    high : int or array-like of ints, optional\n",
            "        If provided, one above the largest (signed) integer to be drawn\n",
            "        from the distribution (see above for behavior if ``high=None``).\n",
            "        If array-like, must contain integer values\n",
            "    size : int or tuple of ints, optional\n",
            "        Output shape.  If the given shape is, e.g., ``(m, n, k)``, then\n",
            "        ``m * n * k`` samples are drawn.  Default is None, in which case a\n",
            "        single value is returned.\n",
            "    dtype : dtype, optional\n",
            "        Desired dtype of the result. Byteorder must be native.\n",
            "        The default value is int.\n",
            "    \n",
            "        .. versionadded:: 1.11.0\n",
            "    \n",
            "    Returns\n",
            "    -------\n",
            "    out : int or ndarray of ints\n",
            "        `size`-shaped array of random integers from the appropriate\n",
            "        distribution, or a single such random int if `size` not provided.\n",
            "    \n",
            "    See Also\n",
            "    --------\n",
            "    random_integers : similar to `randint`, only for the closed\n",
            "        interval [`low`, `high`], and 1 is the lowest value if `high` is\n",
            "        omitted.\n",
            "    Generator.integers: which should be used for new code.\n",
            "    \n",
            "    Examples\n",
            "    --------\n",
            "    >>> np.random.randint(2, size=10)\n",
            "    array([1, 0, 0, 0, 1, 1, 0, 0, 1, 0]) # random\n",
            "    >>> np.random.randint(1, size=10)\n",
            "    array([0, 0, 0, 0, 0, 0, 0, 0, 0, 0])\n",
            "    \n",
            "    Generate a 2 x 4 array of ints between 0 and 4, inclusive:\n",
            "    \n",
            "    >>> np.random.randint(5, size=(2, 4))\n",
            "    array([[4, 0, 2, 1], # random\n",
            "           [3, 2, 2, 0]])\n",
            "    \n",
            "    Generate a 1 x 3 array with 3 different upper bounds\n",
            "    \n",
            "    >>> np.random.randint(1, [3, 5, 10])\n",
            "    array([2, 2, 9]) # random\n",
            "    \n",
            "    Generate a 1 by 3 array with 3 different lower bounds\n",
            "    \n",
            "    >>> np.random.randint([1, 5, 7], 10)\n",
            "    array([9, 8, 7]) # random\n",
            "    \n",
            "    Generate a 2 by 4 array using broadcasting with dtype of uint8\n",
            "    \n",
            "    >>> np.random.randint([1, 3, 5, 7], [[10], [20]], dtype=np.uint8)\n",
            "    array([[ 8,  6,  9,  7], # random\n",
            "           [ 1, 16,  9, 12]], dtype=uint8)\n",
            "\n"
          ],
          "name": "stdout"
        }
      ]
    },
    {
      "cell_type": "code",
      "metadata": {
        "id": "B2Elf-BD7zlb",
        "colab_type": "code",
        "colab": {}
      },
      "source": [
        "# Mediante el ingreso del signo de interrogación al final de la función\n",
        "np.random.randint?"
      ],
      "execution_count": 63,
      "outputs": []
    },
    {
      "cell_type": "code",
      "metadata": {
        "id": "WRVtdggN6WDc",
        "colab_type": "code",
        "colab": {
          "base_uri": "https://localhost:8080/",
          "height": 51
        },
        "outputId": "343e5d76-1024-4a53-82a3-d1f9efabc3b3"
      },
      "source": [
        "n_rndint = np.random.randint(1,10)\n",
        "print(\"Veamos si el siguiente número es par o impar:\", n_rndint)\n",
        "if n_rndint%2 == 0:\n",
        "  print(\"El número a analizar es par.\")\n",
        "else:\n",
        "  print(\"El número a analizar es impar.\")"
      ],
      "execution_count": 64,
      "outputs": [
        {
          "output_type": "stream",
          "text": [
            "Veamos si el siguiente número es par o impar: 6\n",
            "El número a analizar es par.\n"
          ],
          "name": "stdout"
        }
      ]
    },
    {
      "cell_type": "markdown",
      "metadata": {
        "id": "gpy2GoQG9N8o",
        "colab_type": "text"
      },
      "source": [
        "**Problema:** Verificar que al lanzar un dado 10000 veces, la distribución que se obtiene es uniforme."
      ]
    },
    {
      "cell_type": "markdown",
      "metadata": {
        "id": "cL3DOux59k5T",
        "colab_type": "text"
      },
      "source": [
        "####**Lista de funciones/métodos y atributos disponibles**\n",
        "\n",
        "Python es un lenguaje orientado a objetos. Sin ahondar en lo que la afirmación anterior implica, existen dos elementos característicos de un objeto:\n",
        "\n",
        "- Atributos: Que corresponden a valores de una característica de un objeto.\n",
        "- Métodos: Funciones de las que dispone un objeto para operar con este.\n",
        "\n",
        "Además, cada objeto puede crearse mediante lo que se conoce como constructor.\n",
        "\n",
        "Cuando inciamos la creación de un objeto, por ejemplo un arreglo de `numpy`, empezamos por escribir el alias con el que hemos llamado a la librería numpy, es decir como `np.`, y, luego del punto, Google Colab nos mostrará los constructores, métodos y atributos disponibles.\n",
        "\n",
        "<center><img src=\"https://github.com/ssanchezgoe/unad-cdd-ssg/blob/master/colab_intro/imagenes/python_methods.png?raw=true\" alt=\"what image shows\" height=250\" width=\"680\"></center>"
      ]
    },
    {
      "cell_type": "markdown",
      "metadata": {
        "id": "R40u5RhpBDvJ",
        "colab_type": "text"
      },
      "source": [
        "Lo anterior resulta útil cuando hemos olvidado la/el función/método/atributo que estamos buscando.\n",
        "\n",
        "Supongamos entonces que queremos crear un arreglo de números de tipo float; para ello, nos desplazamos hasta el constructor `array`, al cual tendremos que pasarle como argumento una lista de números para crear el arreglo. Una vez estemos posicionados en array, con la tecla `TAB`, podemos autocompletar la palabre que hace referencia al constructor que deseamos invocar:"
      ]
    },
    {
      "cell_type": "code",
      "metadata": {
        "id": "tTzcTAz08M6l",
        "colab_type": "code",
        "colab": {}
      },
      "source": [
        "np_array = np.array([2.0,3.2,4.1,2.5])"
      ],
      "execution_count": 65,
      "outputs": []
    },
    {
      "cell_type": "markdown",
      "metadata": {
        "id": "FUjD1rC31M2d",
        "colab_type": "text"
      },
      "source": [
        "\n",
        "Nótese, además, que google colab nos brinda una ayuda a medida que invocamos el constructor:\n",
        "\n",
        "\n",
        "<center><img src=\"https://github.com/ssanchezgoe/unad-cdd-ssg/blob/master/colab_intro/imagenes/constructor_help.png?raw=true\" alt=\"what image shows\" height=250\" width=\"680\"></center>\n",
        "\n",
        "\n",
        "Veamos qué tipo de **Objeto** hemos creado mediante la función predefinida en `Python` `type`:"
      ]
    },
    {
      "cell_type": "code",
      "metadata": {
        "id": "E2-MKvimytyf",
        "colab_type": "code",
        "colab": {
          "base_uri": "https://localhost:8080/",
          "height": 34
        },
        "outputId": "4a3c91d6-5bfb-4430-a168-8f5e7a52906a"
      },
      "source": [
        "type(np_array)"
      ],
      "execution_count": 66,
      "outputs": [
        {
          "output_type": "execute_result",
          "data": {
            "text/plain": [
              "numpy.ndarray"
            ]
          },
          "metadata": {
            "tags": []
          },
          "execution_count": 66
        }
      ]
    },
    {
      "cell_type": "markdown",
      "metadata": {
        "id": "GDcm6w8F2eC8",
        "colab_type": "text"
      },
      "source": [
        "Alguna de las caractarísticas o **atributos** de un array pueden ser:\n",
        "\n",
        "- El tipo de datos que alberga.\n",
        "- La dimensión del arreglo.\n",
        "- La memoria que ocupa cada elemento del arreglo o el arreglo entero.\n",
        "- etc.\n",
        "\n",
        "Al igual que cuando invocamos el constructor `array` de `numpy`, si escribimos `np_array.` se desplegará una lista de métodos y atributos que podremos aplicar o consultar sobre este objeto. \n",
        "\n",
        "<center><img src=\"https://github.com/ssanchezgoe/unad-cdd-ssg/blob/master/colab_intro/imagenes/objetcs_methods_att.png?raw=true\" alt=\"what image shows\" height=250\" width=\"680\"></center>\n",
        "\n",
        "Veamos algunos atributos del objeto `np_array`"
      ]
    },
    {
      "cell_type": "code",
      "metadata": {
        "id": "Hm9e8CdN3Sqj",
        "colab_type": "code",
        "colab": {
          "base_uri": "https://localhost:8080/",
          "height": 85
        },
        "outputId": "9e372dc1-6e8e-4d6c-ffe0-7a8a4b9b5835"
      },
      "source": [
        "print(\"El tamaño del array es:\", np_array.size)\n",
        "print(\"Los tipos de datos que alberga son:\",  np_array.dtype)\n",
        "print(\"El tamaño en bytes de los datos que contiene es:\", np_array.itemsize)\n",
        "print(\"El tamaño del arreglo en bytes es:\", np_array.nbytes)"
      ],
      "execution_count": 67,
      "outputs": [
        {
          "output_type": "stream",
          "text": [
            "El tamaño del array es: 4\n",
            "Los tipos de datos que alberga son: float64\n",
            "El tamaño en bytes de los datos que contiene es: 8\n",
            "El tamaño del arreglo en bytes es: 32\n"
          ],
          "name": "stdout"
        }
      ]
    },
    {
      "cell_type": "markdown",
      "metadata": {
        "id": "6RcdiU629ULv",
        "colab_type": "text"
      },
      "source": [
        "###**Google Colab - Magics:**\n",
        "\n",
        "Los *Magics* corresponden a un conjunto de comandos de sistema que proporcionan un lenguaje de comandos de extensión corta. Existen dos tipos de *Magics* que describimos a continuación:\n",
        "\n",
        "- *Magics* de línea: Consisten en un comando único en una línea. En este caso, al comando se le antepone el caracter '%'.\n",
        "- *Magics* de celda: Comandos que cubre el cuerpo entero del código de la celda. En este caso, al comando se le antepone los caracteres '%%'.\n",
        "\n",
        "\n",
        "Veamos algunos ejemplos cortos de cada caso."
      ]
    },
    {
      "cell_type": "markdown",
      "metadata": {
        "id": "XthocKwZ-qez",
        "colab_type": "text"
      },
      "source": [
        "####**Magics de línea**"
      ]
    },
    {
      "cell_type": "code",
      "metadata": {
        "id": "3iI0oXE5_UwE",
        "colab_type": "code",
        "colab": {
          "base_uri": "https://localhost:8080/",
          "height": 68
        },
        "outputId": "9cfead86-0e28-4817-8cef-245217f3eba0"
      },
      "source": [
        "# Vista de los contenidos de los directorios locales\n",
        "%ldir"
      ],
      "execution_count": 68,
      "outputs": [
        {
          "output_type": "stream",
          "text": [
            "drwx------ 4 root    4096 Aug  4 15:35 \u001b[0m\u001b[01;34mdrive\u001b[0m/\n",
            "drwxr-xr-x 3 root    4096 Aug  4 14:04 \u001b[01;34mkeras-mnist-tutorial\u001b[0m/\n",
            "drwxr-xr-x 1 root    4096 Jul 30 16:30 \u001b[01;34msample_data\u001b[0m/\n"
          ],
          "name": "stdout"
        }
      ]
    },
    {
      "cell_type": "code",
      "metadata": {
        "id": "bCHMRLK-_YT1",
        "colab_type": "code",
        "colab": {
          "base_uri": "https://localhost:8080/",
          "height": 1000
        },
        "outputId": "868b9a00-f862-4a4d-9b5c-011f21516bd9"
      },
      "source": [
        "# Historia completa de los comandos que se han ejecutado\n",
        "%history"
      ],
      "execution_count": 69,
      "outputs": [
        {
          "output_type": "stream",
          "text": [
            "!python --version\n",
            "import time # Módulo para funciones de tiempo\n",
            "\n",
            "print(time.ctime())\n",
            "time.sleep(5)\n",
            "print(time.ctime())\n",
            "i = 10\n",
            "\n",
            "while i>=1:\n",
            "  print(\"Hola\")\n",
            "  i -= 1\n",
            "mensaje = 'Excelente tutorial de Google Colab!'\n",
            "saludo = !echo -e '$mensaje\\n$mensaje'\n",
            "saludo\n",
            "!wget https://archive.ics.uci.edu/ml/machine-learning-databases/adult/adult.data\n",
            "ls\n",
            "!cat adult.data | head\n",
            "import pandas as pd\n",
            "\n",
            "pd.read_csv(\"adult.data\", header=None)\n",
            "!git clone https://github.com/wxs/keras-mnist-tutorial.git\n",
            "ls\n",
            "!ls /bin\n",
            "from google.colab import drive\n",
            "drive.mount('/content/drive', force_remount=True)\n",
            "ls\n",
            "!python3 \"/content/drive/My Drive/nb_python_tutorial/hola_mundo.py\"\n",
            "import numpy as np\n",
            "from matplotlib import pyplot as plt\n",
            "\n",
            "y = np.random.randn(100)\n",
            "x = [x for x in range(len(y))]\n",
            "\n",
            "plt.plot(x, y, '-')\n",
            "plt.fill_between(x, y, 200, where = (y > 195), facecolor='g', alpha=0.6)\n",
            "\n",
            "plt.title(\"Sample Plot\")\n",
            "plt.show()\n",
            "import numpy as np # importar librería numérica de python\n",
            "# Mediante del uso de la función help\n",
            "help(np.random.randint)\n",
            "# Mediante el ingreso del signo de interrogación al final de la función\n",
            "np.random.randint?\n",
            "n_rndint = np.random.randint(1,10)\n",
            "print(\"Veamos si el siguiente número es par o impar:\", n_rndint)\n",
            "if n_rndint%2 == 0:\n",
            "  print(\"El número a analizar es par.\")\n",
            "else:\n",
            "  print(\"El número a analizar es impar.\")\n",
            "np_array = np.array([2.0,3.2,4.1,2.5])\n",
            "np.\n",
            "np_array = np.array([2.0,3.2,4.1,2.5])\n",
            "np_array = np.array([2.0,3.2,4.1,2.5])\n",
            "np_array.dtype\n",
            "type(np_array)\n",
            "np_array.size\n",
            "print(\"El tamaño del array es: \", np_array.size)\n",
            "print(\"El tamaño del array es: \", np_array.size)\n",
            "print(\"Los tipos de datos que alberga son: \",  np_array.dtype)\n",
            "print(\"El tamaño del array es:\", np_array.size)\n",
            "print(\"Los tipos de datos que alberga son:\",  np_array.dtype)\n",
            "print(\"El tamaño del array es:\", np_array.size)\n",
            "print(\"Los tipos de datos que alberga son:\",  np_array.dtype)\n",
            "print(\"El tamaño de los datos que contiene es:\", np_array.itemsize)\n",
            "print(\"El tamaño del arreglo en bytes es:\" np_array.nbytes)\n",
            "print(\"El tamaño del array es:\", np_array.size)\n",
            "print(\"Los tipos de datos que alberga son:\",  np_array.dtype)\n",
            "print(\"El tamaño de los datos que contiene es:\", np_array.itemsize)\n",
            "print(\"El tamaño del arreglo en bytes es:\", np_array.nbytes)\n",
            "%ldir\n",
            "# Vista de los contenidos de los directorios locales\n",
            "%ldir\n",
            "# Historia completa de los comandos que se han ejecutado\n",
            "%history\n",
            "%%\n",
            "%%html\n",
            "%%html\n",
            "<marquee style='width: 50%; color: Green;'>Welcome to Tutorialspoint!</marquee>\n",
            "%%html\n",
            "<marquee style='width: 50%; color: Green;'>Bienvenidos a este tutorial!</marquee>\n",
            "%%html\n",
            "<marquee style='width: 50%; color: Green;'>Bienvenidos a este tutorial!</marquee>\n",
            "%%html\n",
            "<svg xmlns=\"https://www.w3.org/2000/svg\" viewBox=\"0 0 600 400\" width=\"400\" height=\"400\">\n",
            "   <rect x=\"10\" y=\"00\" width=\"300\" height=\"100\" rx=\"0\" style=\"fill:orange; stroke:black; fill-opacity:1.0\" />\n",
            "   <rect x=\"10\" y=\"100\" width=\"300\" height=\"100\" rx=\"0\" style=\"fill:white; stroke:black; fill-opacity:1.0;\" />\n",
            "   <rect x=\"10\" y=\"200\" width=\"300\" height=\"100\" rx=\"0\" style=\"fill:green; stroke:black; fill-opacity:1.0;\" />\n",
            "</svg>\n",
            "%%html\n",
            "<svg xmlns=\"https://www.w3.org/2000/svg\" viewBox=\"0 0 600 400\" width=\"400\" height=\"400\">\n",
            "   <rect x=\"10\" y=\"00\" width=\"300\" height=\"100\" rx=\"0\" style=\"fill:yellow; stroke:black; fill-opacity:1.0\" />\n",
            "   <rect x=\"10\" y=\"100\" width=\"300\" height=\"100\" rx=\"0\" style=\"fill:blue; stroke:black; fill-opacity:1.0;\" />\n",
            "   <rect x=\"10\" y=\"200\" width=\"300\" height=\"100\" rx=\"0\" style=\"fill:red; stroke:black; fill-opacity:1.0;\" />\n",
            "</svg>\n",
            "%%html\n",
            "<svg xmlns=\"https://www.w3.org/2000/svg\" viewBox=\"0 0 600 400\" width=\"400\" height=\"400\">\n",
            "   <rect x=\"10\" y=\"00\" width=\"300\" height=\"100\" rx=\"0\" style=\"fill:blue; stroke:black; fill-opacity:1.0\" />\n",
            "   <rect x=\"10\" y=\"100\" width=\"300\" height=\"100\" rx=\"0\" style=\"fill:orange; stroke:black; fill-opacity:1.0;\" />\n",
            "   <rect x=\"10\" y=\"200\" width=\"300\" height=\"100\" rx=\"0\" style=\"fill:yellow; stroke:black; fill-opacity:1.0;\" />\n",
            "</svg>\n",
            "%lsmagic\n",
            "!python --version\n",
            "import time # Módulo para funciones de tiempo\n",
            "\n",
            "print(time.ctime())\n",
            "time.sleep(5)\n",
            "print(time.ctime())\n",
            "i = 10\n",
            "\n",
            "while i>=1:\n",
            "  print(\"Hola\")\n",
            "  i -= 1\n",
            "mensaje = 'Excelente tutorial de Google Colab!'\n",
            "saludo = !echo -e '$mensaje\\n$mensaje'\n",
            "saludo\n",
            "!wget https://archive.ics.uci.edu/ml/machine-learning-databases/adult/adult.data\n",
            "ls\n",
            "!cat adult.data | head\n",
            "import pandas as pd\n",
            "\n",
            "pd.read_csv(\"adult.data\", header=None)\n",
            "!git clone https://github.com/wxs/keras-mnist-tutorial.git\n",
            "ls\n",
            "!ls /bin\n",
            "from google.colab import drive\n",
            "drive.mount('/content/drive', force_remount=True)\n",
            "ls\n",
            "!python3 \"/content/drive/My Drive/nb_python_tutorial/hola_mundo.py\"\n",
            "import numpy as np\n",
            "from matplotlib import pyplot as plt\n",
            "\n",
            "y = np.random.randn(100)\n",
            "x = [x for x in range(len(y))]\n",
            "\n",
            "plt.plot(x, y, '-')\n",
            "plt.fill_between(x, y, 200, where = (y > 195), facecolor='g', alpha=0.6)\n",
            "\n",
            "plt.title(\"Sample Plot\")\n",
            "plt.show()\n",
            "import numpy as np # importar librería numérica de python\n",
            "# Mediante del uso de la función help\n",
            "help(np.random.randint)\n",
            "# Mediante el ingreso del signo de interrogación al final de la función\n",
            "np.random.randint?\n",
            "n_rndint = np.random.randint(1,10)\n",
            "print(\"Veamos si el siguiente número es par o impar:\", n_rndint)\n",
            "if n_rndint%2 == 0:\n",
            "  print(\"El número a analizar es par.\")\n",
            "else:\n",
            "  print(\"El número a analizar es impar.\")\n",
            "np_array = np.array([2.0,3.2,4.1,2.5])\n",
            "type(np_array)\n",
            "print(\"El tamaño del array es:\", np_array.size)\n",
            "print(\"Los tipos de datos que alberga son:\",  np_array.dtype)\n",
            "print(\"El tamaño en bytes de los datos que contiene es:\", np_array.itemsize)\n",
            "print(\"El tamaño del arreglo en bytes es:\", np_array.nbytes)\n",
            "# Vista de los contenidos de los directorios locales\n",
            "%ldir\n",
            "# Historia completa de los comandos que se han ejecutado\n",
            "%history\n"
          ],
          "name": "stdout"
        }
      ]
    },
    {
      "cell_type": "markdown",
      "metadata": {
        "id": "y6AtB674_ubZ",
        "colab_type": "text"
      },
      "source": [
        "####**Magics de Celdas**"
      ]
    },
    {
      "cell_type": "code",
      "metadata": {
        "id": "EB53jnLtAKAM",
        "colab_type": "code",
        "colab": {
          "base_uri": "https://localhost:8080/",
          "height": 38
        },
        "outputId": "b2fcecd3-3b79-46fa-93ad-8f475be4da4e"
      },
      "source": [
        "#Celda html\n",
        "%%html\n",
        "<marquee style='width: 50%; color: Green;'>Bienvenidos a este tutorial!</marquee>"
      ],
      "execution_count": 70,
      "outputs": [
        {
          "output_type": "display_data",
          "data": {
            "text/html": [
              "<marquee style='width: 50%; color: Green;'>Bienvenidos a este tutorial!</marquee>"
            ],
            "text/plain": [
              "<IPython.core.display.HTML object>"
            ]
          },
          "metadata": {
            "tags": []
          }
        }
      ]
    },
    {
      "cell_type": "code",
      "metadata": {
        "id": "ZMm08cD9Ad41",
        "colab_type": "code",
        "colab": {
          "base_uri": "https://localhost:8080/",
          "height": 421
        },
        "outputId": "235ffe6a-bcab-4200-cb23-731589eaed06"
      },
      "source": [
        "# Celda html con un archivo SVG\n",
        "%%html\n",
        "<svg xmlns=\"https://www.w3.org/2000/svg\" viewBox=\"0 0 600 400\" width=\"400\" height=\"400\">\n",
        "   <rect x=\"10\" y=\"00\" width=\"300\" height=\"100\" rx=\"0\" style=\"fill:blue; stroke:black; fill-opacity:1.0\" />\n",
        "   <rect x=\"10\" y=\"100\" width=\"300\" height=\"100\" rx=\"0\" style=\"fill:orange; stroke:black; fill-opacity:1.0;\" />\n",
        "   <rect x=\"10\" y=\"200\" width=\"300\" height=\"100\" rx=\"0\" style=\"fill:yellow; stroke:black; fill-opacity:1.0;\" />\n",
        "</svg>"
      ],
      "execution_count": 71,
      "outputs": [
        {
          "output_type": "display_data",
          "data": {
            "text/html": [
              "<svg xmlns=\"https://www.w3.org/2000/svg\" viewBox=\"0 0 600 400\" width=\"400\" height=\"400\">\n",
              "   <rect x=\"10\" y=\"00\" width=\"300\" height=\"100\" rx=\"0\" style=\"fill:blue; stroke:black; fill-opacity:1.0\" />\n",
              "   <rect x=\"10\" y=\"100\" width=\"300\" height=\"100\" rx=\"0\" style=\"fill:orange; stroke:black; fill-opacity:1.0;\" />\n",
              "   <rect x=\"10\" y=\"200\" width=\"300\" height=\"100\" rx=\"0\" style=\"fill:yellow; stroke:black; fill-opacity:1.0;\" />\n",
              "</svg>"
            ],
            "text/plain": [
              "<IPython.core.display.HTML object>"
            ]
          },
          "metadata": {
            "tags": []
          }
        }
      ]
    },
    {
      "cell_type": "markdown",
      "metadata": {
        "id": "kmzx5GdxBS1O",
        "colab_type": "text"
      },
      "source": [
        "####**Lista de magics**"
      ]
    },
    {
      "cell_type": "code",
      "metadata": {
        "id": "8sZxaDCxA7tj",
        "colab_type": "code",
        "colab": {
          "base_uri": "https://localhost:8080/",
          "height": 156
        },
        "outputId": "635fe496-c770-4d90-f000-bed71b865737"
      },
      "source": [
        "%lsmagic"
      ],
      "execution_count": 72,
      "outputs": [
        {
          "output_type": "execute_result",
          "data": {
            "application/json": {
              "cell": {
                "prun": "ExecutionMagics",
                "file": "Other",
                "!": "OSMagics",
                "capture": "ExecutionMagics",
                "timeit": "ExecutionMagics",
                "script": "ScriptMagics",
                "pypy": "Other",
                "system": "OSMagics",
                "perl": "Other",
                "html": "DisplayMagics",
                "bash": "Other",
                "shell": "Other",
                "HTML": "Other",
                "python": "Other",
                "SVG": "Other",
                "javascript": "DisplayMagics",
                "bigquery": "Other",
                "js": "DisplayMagics",
                "writefile": "OSMagics",
                "ruby": "Other",
                "python3": "Other",
                "python2": "Other",
                "latex": "DisplayMagics",
                "sx": "OSMagics",
                "svg": "DisplayMagics",
                "sh": "Other",
                "time": "ExecutionMagics",
                "debug": "ExecutionMagics"
              },
              "line": {
                "psource": "NamespaceMagics",
                "logstart": "LoggingMagics",
                "popd": "OSMagics",
                "tensorflow_version": "Other",
                "loadpy": "CodeMagics",
                "colors": "BasicMagics",
                "who_ls": "NamespaceMagics",
                "lf": "Other",
                "ll": "Other",
                "pprint": "BasicMagics",
                "lk": "Other",
                "ls": "Other",
                "save": "CodeMagics",
                "tb": "ExecutionMagics",
                "lx": "Other",
                "pylab": "PylabMagics",
                "killbgscripts": "ScriptMagics",
                "quickref": "BasicMagics",
                "magic": "BasicMagics",
                "dhist": "OSMagics",
                "edit": "KernelMagics",
                "logstop": "LoggingMagics",
                "gui": "BasicMagics",
                "prun": "ExecutionMagics",
                "debug": "ExecutionMagics",
                "page": "BasicMagics",
                "logstate": "LoggingMagics",
                "ed": "Other",
                "pushd": "OSMagics",
                "timeit": "ExecutionMagics",
                "set_env": "OSMagics",
                "rehashx": "OSMagics",
                "hist": "Other",
                "qtconsole": "KernelMagics",
                "rm": "Other",
                "dirs": "OSMagics",
                "run": "ExecutionMagics",
                "reset_selective": "NamespaceMagics",
                "pinfo2": "NamespaceMagics",
                "matplotlib": "PylabMagics",
                "unload_ext": "ExtensionMagics",
                "doctest_mode": "BasicMagics",
                "logoff": "LoggingMagics",
                "reload_ext": "ExtensionMagics",
                "pdb": "ExecutionMagics",
                "load": "CodeMagics",
                "lsmagic": "BasicMagics",
                "autosave": "KernelMagics",
                "cd": "OSMagics",
                "pastebin": "CodeMagics",
                "alias_magic": "BasicMagics",
                "cp": "Other",
                "autocall": "AutoMagics",
                "ldir": "Other",
                "bookmark": "OSMagics",
                "connect_info": "KernelMagics",
                "mkdir": "Other",
                "system": "OSMagics",
                "whos": "NamespaceMagics",
                "rmdir": "Other",
                "automagic": "AutoMagics",
                "store": "StoreMagics",
                "more": "KernelMagics",
                "shell": "Other",
                "pdef": "NamespaceMagics",
                "precision": "BasicMagics",
                "pinfo": "NamespaceMagics",
                "pwd": "OSMagics",
                "psearch": "NamespaceMagics",
                "reset": "NamespaceMagics",
                "recall": "HistoryMagics",
                "xdel": "NamespaceMagics",
                "xmode": "BasicMagics",
                "cat": "Other",
                "mv": "Other",
                "rerun": "HistoryMagics",
                "logon": "LoggingMagics",
                "history": "HistoryMagics",
                "pycat": "OSMagics",
                "pip": "Other",
                "unalias": "OSMagics",
                "env": "OSMagics",
                "load_ext": "ExtensionMagics",
                "config": "ConfigMagics",
                "profile": "BasicMagics",
                "pfile": "NamespaceMagics",
                "less": "KernelMagics",
                "who": "NamespaceMagics",
                "notebook": "BasicMagics",
                "man": "KernelMagics",
                "sx": "OSMagics",
                "macro": "ExecutionMagics",
                "clear": "KernelMagics",
                "alias": "OSMagics",
                "time": "ExecutionMagics",
                "sc": "OSMagics",
                "rep": "Other",
                "pdoc": "NamespaceMagics"
              }
            },
            "text/plain": [
              "Available line magics:\n",
              "%alias  %alias_magic  %autocall  %automagic  %autosave  %bookmark  %cat  %cd  %clear  %colors  %config  %connect_info  %cp  %debug  %dhist  %dirs  %doctest_mode  %ed  %edit  %env  %gui  %hist  %history  %killbgscripts  %ldir  %less  %lf  %lk  %ll  %load  %load_ext  %loadpy  %logoff  %logon  %logstart  %logstate  %logstop  %ls  %lsmagic  %lx  %macro  %magic  %man  %matplotlib  %mkdir  %more  %mv  %notebook  %page  %pastebin  %pdb  %pdef  %pdoc  %pfile  %pinfo  %pinfo2  %pip  %popd  %pprint  %precision  %profile  %prun  %psearch  %psource  %pushd  %pwd  %pycat  %pylab  %qtconsole  %quickref  %recall  %rehashx  %reload_ext  %rep  %rerun  %reset  %reset_selective  %rm  %rmdir  %run  %save  %sc  %set_env  %shell  %store  %sx  %system  %tb  %tensorflow_version  %time  %timeit  %unalias  %unload_ext  %who  %who_ls  %whos  %xdel  %xmode\n",
              "\n",
              "Available cell magics:\n",
              "%%!  %%HTML  %%SVG  %%bash  %%bigquery  %%capture  %%debug  %%file  %%html  %%javascript  %%js  %%latex  %%perl  %%prun  %%pypy  %%python  %%python2  %%python3  %%ruby  %%script  %%sh  %%shell  %%svg  %%sx  %%system  %%time  %%timeit  %%writefile\n",
              "\n",
              "Automagic is ON, % prefix IS NOT needed for line magics."
            ]
          },
          "metadata": {
            "tags": []
          },
          "execution_count": 72
        }
      ]
    },
    {
      "cell_type": "markdown",
      "metadata": {
        "id": "CiDpfAWjBZss",
        "colab_type": "text"
      },
      "source": [
        "###**Formularios en Google Colab**\n",
        "\n",
        "Google colab nos proporciona unas utilidad interesante conocida como **Formularios** (Forms), que nos permiten la manipulación de entradas de los usuarios en nuestros notebooks. Veamos algunas de esas formas."
      ]
    },
    {
      "cell_type": "markdown",
      "metadata": {
        "id": "iP4ZQ6dcCcQO",
        "colab_type": "text"
      },
      "source": [
        "####**Inserción de un Formulario**\n",
        "\n",
        "En una celda anterior, implementamos un código para generar un retrazo temporal de 5 segundos, el cual correspondía al siguient código\n",
        "\n",
        "    import time\n",
        "    print(time.ctime())\n",
        "    time.sleep(5)\n",
        "    print (time.ctime())\n",
        "\n",
        "Supongamos ahora que queremos que el retrazo amporal lo determine el usuario. Para esto, podemos agregar un formulario a la celda de código para tener el cuenta el retrazo introducido por el usuario. Los pasos mínimos necesarios para crear este formulario se muestran en las siguientes capturas de pantalla\n",
        "\n",
        "\n",
        "<center><img src=\"https://github.com/ssanchezgoe/unad-cdd-ssg/blob/master/colab_intro/imagenes/configuracion_formulario.png?raw=true\" alt=\"what image shows\" height=280\" width=\"800\"></center>\n",
        "\n",
        "<center><img src=\"https://github.com/ssanchezgoe/unad-cdd-ssg/blob/master/colab_intro/imagenes/agregar_campo_1.png?raw=true\" alt=\"what image shows\" height=120\" width=\"800\"></center>\n",
        "\n",
        "<center><img src=\"https://github.com/ssanchezgoe/unad-cdd-ssg/blob/master/colab_intro/imagenes/agregar_campo_2.png?raw=true\" alt=\"what image shows\" height=280\" width=\"800\"></center>"
      ]
    },
    {
      "cell_type": "code",
      "metadata": {
        "id": "CKMytnO5Du9A",
        "colab_type": "code",
        "colab": {
          "base_uri": "https://localhost:8080/",
          "height": 51
        },
        "cellView": "form",
        "outputId": "c5a27440-a51b-4b2c-ae41-1e322ec8933c"
      },
      "source": [
        "#@title **Formulario**\n",
        "sleeptime =  2#@param {type:\"integer\"}\n",
        "print(time.ctime())\n",
        "time.sleep(sleeptime)\n",
        "print (time.ctime())"
      ],
      "execution_count": 76,
      "outputs": [
        {
          "output_type": "stream",
          "text": [
            "Tue Aug  4 15:39:16 2020\n",
            "Tue Aug  4 15:39:18 2020\n"
          ],
          "name": "stdout"
        }
      ]
    },
    {
      "cell_type": "markdown",
      "metadata": {
        "id": "1HcJsewsH-4E",
        "colab_type": "text"
      },
      "source": [
        "####**Lista desplegable**\n",
        "\n",
        "Veamos ahora opción que nos permite desplegar una lista de valores para que el usuario escoja entre ellos"
      ]
    },
    {
      "cell_type": "code",
      "metadata": {
        "id": "9CywHPr7NDgD",
        "colab_type": "code",
        "colab": {
          "base_uri": "https://localhost:8080/",
          "height": 34
        },
        "cellView": "form",
        "outputId": "d041075c-b5f8-42cb-a02e-36cc404e9016"
      },
      "source": [
        "#@title **Lista desplegable de valores**\n",
        "color = 'azul' #@param [\"verde\", \"azul\", \"rojo\"]\n",
        "print(\"El color escogido es:\", color)\n"
      ],
      "execution_count": 79,
      "outputs": [
        {
          "output_type": "stream",
          "text": [
            "El color escogido es: azul\n"
          ],
          "name": "stdout"
        }
      ]
    },
    {
      "cell_type": "markdown",
      "metadata": {
        "id": "5_mtTkXmOwiU",
        "colab_type": "text"
      },
      "source": [
        "###**Instalación de librerías:**\n",
        "\n",
        "Google colab permite la instalación de la mayoría de librerías disponibles en la red. Para la instalación de una librería, podemos ejecutar los comandos\n",
        "\n",
        "\n",
        "\n",
        "```\n",
        "!pip install nombre_librería\n",
        "```\n",
        "\n",
        "que es nativo de las instalaciones de python, o el comando \n",
        "\n",
        "\n",
        "\n",
        "```\n",
        "# !apt-get install\n",
        "```\n",
        "\n",
        "que es usado en entornos de ejecución de linux.\n",
        "\n",
        "Veamos un ejemplo de instalación de `keras` mediante el comando nativo de python:\n",
        "\n"
      ]
    },
    {
      "cell_type": "code",
      "metadata": {
        "id": "IDA4tb_ENk_T",
        "colab_type": "code",
        "colab": {
          "base_uri": "https://localhost:8080/",
          "height": 119
        },
        "outputId": "1cabcd72-5185-44a9-88c8-d9c7afc41fb8"
      },
      "source": [
        "!pip install keras"
      ],
      "execution_count": 81,
      "outputs": [
        {
          "output_type": "stream",
          "text": [
            "Requirement already satisfied: keras in /usr/local/lib/python3.6/dist-packages (2.4.3)\n",
            "Requirement already satisfied: h5py in /usr/local/lib/python3.6/dist-packages (from keras) (2.10.0)\n",
            "Requirement already satisfied: pyyaml in /usr/local/lib/python3.6/dist-packages (from keras) (3.13)\n",
            "Requirement already satisfied: numpy>=1.9.1 in /usr/local/lib/python3.6/dist-packages (from keras) (1.18.5)\n",
            "Requirement already satisfied: scipy>=0.14 in /usr/local/lib/python3.6/dist-packages (from keras) (1.4.1)\n",
            "Requirement already satisfied: six in /usr/local/lib/python3.6/dist-packages (from h5py->keras) (1.15.0)\n"
          ],
          "name": "stdout"
        }
      ]
    },
    {
      "cell_type": "markdown",
      "metadata": {
        "id": "NT41ItDzQWcA",
        "colab_type": "text"
      },
      "source": [
        "###**Entorno de ejecución de alta demanda de memoria RAM**\n",
        "\n",
        "El entorno de ejecución actual, nos brinda un máximo de memoria RAM de 12.72 GB que podemos ampliar, automaticamente, si nos quedamos sin memoria.\n",
        "\n",
        "Causemos un fallo intencionado de reserva de memoria RAM para ampliar la capacidad:"
      ]
    },
    {
      "cell_type": "code",
      "metadata": {
        "id": "JRdiQxoBQ0CY",
        "colab_type": "code",
        "colab": {}
      },
      "source": [
        "a = []\n",
        "while type(1):\n",
        "  a.append('1')"
      ],
      "execution_count": null,
      "outputs": []
    },
    {
      "cell_type": "code",
      "metadata": {
        "id": "v3BBEbaZSZor",
        "colab_type": "code",
        "colab": {}
      },
      "source": [
        ""
      ],
      "execution_count": null,
      "outputs": []
    }
  ]
}
